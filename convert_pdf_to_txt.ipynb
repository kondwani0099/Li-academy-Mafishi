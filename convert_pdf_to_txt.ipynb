{
  "nbformat": 4,
  "nbformat_minor": 0,
  "metadata": {
    "colab": {
      "provenance": []
    },
    "kernelspec": {
      "name": "python3",
      "display_name": "Python 3"
    },
    "language_info": {
      "name": "python"
    }
  },
  "cells": [
    {
      "cell_type": "markdown",
      "source": [
        "This code helps to convert padf files in folders into text"
      ],
      "metadata": {
        "id": "pTDLWCOCgORc"
      }
    },
    {
      "cell_type": "code",
      "source": [
        "!pip install PyMuPDF"
      ],
      "metadata": {
        "colab": {
          "base_uri": "https://localhost:8080/"
        },
        "id": "IcJRSxDWgoY6",
        "outputId": "dd10518f-e918-409c-8373-49458d399031"
      },
      "execution_count": 2,
      "outputs": [
        {
          "output_type": "stream",
          "name": "stdout",
          "text": [
            "Collecting PyMuPDF\n",
            "  Downloading PyMuPDF-1.24.0-cp310-none-manylinux2014_x86_64.whl (3.9 MB)\n",
            "\u001b[2K     \u001b[90m━━━━━━━━━━━━━━━━━━━━━━━━━━━━━━━━━━━━━━━━\u001b[0m \u001b[32m3.9/3.9 MB\u001b[0m \u001b[31m17.4 MB/s\u001b[0m eta \u001b[36m0:00:00\u001b[0m\n",
            "\u001b[?25hCollecting PyMuPDFb==1.24.0 (from PyMuPDF)\n",
            "  Downloading PyMuPDFb-1.24.0-py3-none-manylinux2014_x86_64.manylinux_2_17_x86_64.whl (30.8 MB)\n",
            "\u001b[2K     \u001b[90m━━━━━━━━━━━━━━━━━━━━━━━━━━━━━━━━━━━━━━━━\u001b[0m \u001b[32m30.8/30.8 MB\u001b[0m \u001b[31m39.4 MB/s\u001b[0m eta \u001b[36m0:00:00\u001b[0m\n",
            "\u001b[?25hInstalling collected packages: PyMuPDFb, PyMuPDF\n",
            "Successfully installed PyMuPDF-1.24.0 PyMuPDFb-1.24.0\n"
          ]
        }
      ]
    },
    {
      "cell_type": "code",
      "execution_count": 3,
      "metadata": {
        "id": "t417igLPfacm"
      },
      "outputs": [],
      "source": [
        "import os\n",
        "import fitz  # PyMuPDF"
      ]
    },
    {
      "cell_type": "code",
      "source": [
        "\n",
        "\n",
        "def convert_pdf_to_text(pdf_path, txt_path):\n",
        "    # Open the PDF file\n",
        "    pdf_document = fitz.open(pdf_path)\n",
        "\n",
        "    # Iterate through pages and extract text\n",
        "    text = \"\"\n",
        "    for page_number in range(pdf_document.page_count):\n",
        "        page = pdf_document[page_number]\n",
        "        text += page.get_text()\n",
        "\n",
        "    # Close the PDF document\n",
        "    pdf_document.close()\n",
        "\n",
        "    # Write the extracted text to a text file\n",
        "    with open(txt_path, 'w', encoding='utf-8') as txt_file:\n",
        "        txt_file.write(text)\n",
        "\n",
        "def batch_convert_pdfs(input_folder, output_folder):\n",
        "    # Ensure the output folder exists\n",
        "    os.makedirs(output_folder, exist_ok=True)\n",
        "\n",
        "    # Iterate through PDF files in the input folder\n",
        "    for filename in os.listdir(input_folder):\n",
        "        if filename.endswith('.pdf'):\n",
        "            pdf_path = os.path.join(input_folder, filename)\n",
        "            txt_path = os.path.join(output_folder, os.path.splitext(filename)[0] + '.txt')\n",
        "\n",
        "            # Convert PDF to text\n",
        "            convert_pdf_to_text(pdf_path, txt_path)\n",
        "            print(f\"Converted {filename} to {os.path.basename(txt_path)}\")\n",
        "\n",
        "if __name__ == \"__main__\":\n",
        "    # Specify the input and output folders\n",
        "    input_folder_path = \"/content/CH110/\" #example of folder containing the data in pdf foramt\n",
        "    output_folder_path = \"/content/cH_txt/\"\n",
        "\n",
        "    # Convert all PDFs in the input folder to text files in the output folder\n",
        "    batch_convert_pdfs(input_folder_path, output_folder_path)\n"
      ],
      "metadata": {
        "colab": {
          "base_uri": "https://localhost:8080/",
          "height": 297
        },
        "id": "GmL4EAgpggJo",
        "outputId": "8d8c01a9-374c-4e72-ecd2-2f7d86e0da9b"
      },
      "execution_count": 4,
      "outputs": [
        {
          "output_type": "error",
          "ename": "FileNotFoundError",
          "evalue": "[Errno 2] No such file or directory: 'CH110/'",
          "traceback": [
            "\u001b[0;31m---------------------------------------------------------------------------\u001b[0m",
            "\u001b[0;31mFileNotFoundError\u001b[0m                         Traceback (most recent call last)",
            "\u001b[0;32m<ipython-input-4-12c70e4df5bb>\u001b[0m in \u001b[0;36m<cell line: 32>\u001b[0;34m()\u001b[0m\n\u001b[1;32m     36\u001b[0m \u001b[0;34m\u001b[0m\u001b[0m\n\u001b[1;32m     37\u001b[0m     \u001b[0;31m# Convert all PDFs in the input folder to text files in the output folder\u001b[0m\u001b[0;34m\u001b[0m\u001b[0;34m\u001b[0m\u001b[0m\n\u001b[0;32m---> 38\u001b[0;31m     \u001b[0mbatch_convert_pdfs\u001b[0m\u001b[0;34m(\u001b[0m\u001b[0minput_folder_path\u001b[0m\u001b[0;34m,\u001b[0m \u001b[0moutput_folder_path\u001b[0m\u001b[0;34m)\u001b[0m\u001b[0;34m\u001b[0m\u001b[0;34m\u001b[0m\u001b[0m\n\u001b[0m",
            "\u001b[0;32m<ipython-input-4-12c70e4df5bb>\u001b[0m in \u001b[0;36mbatch_convert_pdfs\u001b[0;34m(input_folder, output_folder)\u001b[0m\n\u001b[1;32m     21\u001b[0m \u001b[0;34m\u001b[0m\u001b[0m\n\u001b[1;32m     22\u001b[0m     \u001b[0;31m# Iterate through PDF files in the input folder\u001b[0m\u001b[0;34m\u001b[0m\u001b[0;34m\u001b[0m\u001b[0m\n\u001b[0;32m---> 23\u001b[0;31m     \u001b[0;32mfor\u001b[0m \u001b[0mfilename\u001b[0m \u001b[0;32min\u001b[0m \u001b[0mos\u001b[0m\u001b[0;34m.\u001b[0m\u001b[0mlistdir\u001b[0m\u001b[0;34m(\u001b[0m\u001b[0minput_folder\u001b[0m\u001b[0;34m)\u001b[0m\u001b[0;34m:\u001b[0m\u001b[0;34m\u001b[0m\u001b[0;34m\u001b[0m\u001b[0m\n\u001b[0m\u001b[1;32m     24\u001b[0m         \u001b[0;32mif\u001b[0m \u001b[0mfilename\u001b[0m\u001b[0;34m.\u001b[0m\u001b[0mendswith\u001b[0m\u001b[0;34m(\u001b[0m\u001b[0;34m'.pdf'\u001b[0m\u001b[0;34m)\u001b[0m\u001b[0;34m:\u001b[0m\u001b[0;34m\u001b[0m\u001b[0;34m\u001b[0m\u001b[0m\n\u001b[1;32m     25\u001b[0m             \u001b[0mpdf_path\u001b[0m \u001b[0;34m=\u001b[0m \u001b[0mos\u001b[0m\u001b[0;34m.\u001b[0m\u001b[0mpath\u001b[0m\u001b[0;34m.\u001b[0m\u001b[0mjoin\u001b[0m\u001b[0;34m(\u001b[0m\u001b[0minput_folder\u001b[0m\u001b[0;34m,\u001b[0m \u001b[0mfilename\u001b[0m\u001b[0;34m)\u001b[0m\u001b[0;34m\u001b[0m\u001b[0;34m\u001b[0m\u001b[0m\n",
            "\u001b[0;31mFileNotFoundError\u001b[0m: [Errno 2] No such file or directory: 'CH110/'"
          ]
        }
      ]
    }
  ]
}