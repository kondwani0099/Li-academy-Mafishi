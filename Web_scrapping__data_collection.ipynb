{
  "nbformat": 4,
  "nbformat_minor": 0,
  "metadata": {
    "colab": {
      "provenance": []
    },
    "kernelspec": {
      "name": "python3",
      "display_name": "Python 3"
    },
    "language_info": {
      "name": "python"
    }
  },
  "cells": [
    {
      "cell_type": "markdown",
      "source": [
        "WEB SCRAPPING"
      ],
      "metadata": {
        "id": "pROOSj03WbrM"
      }
    },
    {
      "cell_type": "code",
      "source": [
        "#installation\n",
        "!pip install requests beautifulsoup4\n"
      ],
      "metadata": {
        "colab": {
          "base_uri": "https://localhost:8080/"
        },
        "id": "5VbiDj0yWxc6",
        "outputId": "299c70b3-42a0-4a99-d588-11316a40c322"
      },
      "execution_count": 1,
      "outputs": [
        {
          "output_type": "stream",
          "name": "stdout",
          "text": [
            "Requirement already satisfied: requests in /usr/local/lib/python3.10/dist-packages (2.31.0)\n",
            "Requirement already satisfied: beautifulsoup4 in /usr/local/lib/python3.10/dist-packages (4.12.3)\n",
            "Requirement already satisfied: charset-normalizer<4,>=2 in /usr/local/lib/python3.10/dist-packages (from requests) (3.3.2)\n",
            "Requirement already satisfied: idna<4,>=2.5 in /usr/local/lib/python3.10/dist-packages (from requests) (3.6)\n",
            "Requirement already satisfied: urllib3<3,>=1.21.1 in /usr/local/lib/python3.10/dist-packages (from requests) (2.0.7)\n",
            "Requirement already satisfied: certifi>=2017.4.17 in /usr/local/lib/python3.10/dist-packages (from requests) (2024.2.2)\n",
            "Requirement already satisfied: soupsieve>1.2 in /usr/local/lib/python3.10/dist-packages (from beautifulsoup4) (2.5)\n"
          ]
        }
      ]
    },
    {
      "cell_type": "code",
      "source": [
        "#urls used\n",
        "https://www.cbu.ac.zm/schoolsAndUnits/schoolofmedicine/adimission-requirements/\n",
        "https://lapansiindustries.com/blogs/mechatronics.html\n",
        "https://www.cbu.ac.zm/schoolsAndUnits/schoolofmedicine/adimission-requirements/\n",
        "https://www.cbu.ac.zm/schoolsAndUnits/schoolofmedicine/basic-sciences-department/\n",
        "https://www.cbu.ac.zm/schoolsAndUnits/schoolofengineering/courses-bachelor-of-mechanical-engineering-hons/"
      ],
      "metadata": {
        "id": "CPDjYjBLaW0V"
      },
      "execution_count": null,
      "outputs": []
    },
    {
      "cell_type": "code",
      "execution_count": 13,
      "metadata": {
        "colab": {
          "base_uri": "https://localhost:8080/"
        },
        "id": "tCXJqpfnWWT1",
        "outputId": "4779960e-34fa-4588-dd74-b6924364dfe5"
      },
      "outputs": [
        {
          "output_type": "stream",
          "name": "stdout",
          "text": [
            "Scraping and writing to file completed.\n"
          ]
        }
      ],
      "source": [
        "import requests\n",
        "from bs4 import BeautifulSoup\n",
        "\n",
        "# URL of the webpage to scrape\n",
        "url = 'https://www.cbu.ac.zm/schoolsAndUnits/schoolofengineering/courses-bachelor-of-mechanical-engineering-hons/'\n",
        "\n",
        "# Send a GET request to the URL\n",
        "response = requests.get(url)\n",
        "\n",
        "# Check if the request was successful (status code 200)\n",
        "if response.status_code == 200:\n",
        "    # Parse the HTML content of the webpage\n",
        "    soup = BeautifulSoup(response.text, 'html.parser')\n",
        "\n",
        "    # Find and extract the desired content from the webpage\n",
        "    # For example, let's extract all the text within <p> tags\n",
        "    paragraphs = soup.find_all('p')\n",
        "\n",
        "    # Create/open a text file to write the scraped data\n",
        "    with open('/content/scraped_data_mechanical.txt', 'w', encoding='utf-8') as file:\n",
        "        # Write each paragraph to the text file\n",
        "        for paragraph in paragraphs:\n",
        "            file.write(paragraph.get_text() + '\\n')\n",
        "\n",
        "    print(\"Scraping and writing to file completed.\")\n",
        "else:\n",
        "    print(\"Failed to retrieve webpage.\")\n"
      ]
    },
    {
      "cell_type": "code",
      "source": [
        "#reaading the data scrapped\n",
        "\n",
        "# Read a file from Google Drive\n",
        "file_path = '/content/scraped_data_mechanical.txt'\n",
        "with open(file_path, 'r') as file:\n",
        "    data = file.read()\n",
        "    print(data)\n"
      ],
      "metadata": {
        "colab": {
          "base_uri": "https://localhost:8080/"
        },
        "id": "HYieDf1AW8A9",
        "outputId": "1d139eee-0ff3-4dd1-892a-10762c8c582f"
      },
      "execution_count": 14,
      "outputs": [
        {
          "output_type": "stream",
          "name": "stdout",
          "text": [
            " Introduction\n",
            "Mechanical engineering concerns the design, construction and use of mechanical devices. This covers a broad range of machines such as internal combustion engines, industrial equipment and manufacturing plants. The program offers students the opportunity to learn real-world engineering principles, analyse and interpret machine performance and detailed analysis of machines.\n",
            "Students studying Mechanical engineering cover a wide range of topics including mechanics, thermodynamics, fluid mechanics and materials. Students will carry out individual project work, which allows them to apply the knowledge they have gained during their studies to a problem in Mechanical engineering as well as visit industrial sites,\n",
            "The Mechanical engineer developed by this program is a skilled, practical engineer with the knowledge of machine design who will have opportunity to work in a mining sector, manufacturing plants, cements plants etc. both locally and abroad.\n",
            "Rationale\n",
            "A degree programme in Mechanical Engineering provide support and expertise to those areas in schools such as mines and mineral sciences, business, natural resources and the built environment which all have components of mechanical engineering in their curricular. Job opportunities for graduating students are plentiful, encompassing both the private and public sectors. The degree is popular to school leavers and current employees in both the private and public sectors who may wish to upgrade their qualifications.\n",
            "Application of Laplace transforms to solve differential equations\n",
            "Fourier series\n",
            "Fourier Transforms\n",
            "Multiple Integration\n",
            "Vector Algebra\n",
            "Vector calculus\n",
            "Partial Differential equations\n",
            "Functions of complex variables\n",
            "z- transforms and difference equations\n",
            "Strengthening Mechanisms\n",
            "Diffusion\n",
            "Nucleation and Growth\n",
            "Creep\n",
            "Fatigue\n",
            "Brittle Fracture\n",
            "Properties and uses of metals\n",
            "Design and Manufacture Interface\n",
            "Product Development (total approach\n",
            "Design for Sustainability and the Environment\n",
            "Engineering Design Methods\n",
            "Dimensioning and Tolerancing\n",
            "FLUID STATICS\n",
            "BASIC FLUID DYNAMICS\n",
            "ENERGY EQUATIONS\n",
            "MOMENTUM EQUATION\n",
            "BEHAVIOUR OF REAL FLUIDS\n",
            "FLOW IN PIPES\n",
            "OPEN CHANNEL FLOW\n",
            "PROPERTIES OF PURE SUBSTANCES\n",
            "WORK AND HEAT\n",
            "THE FIRST LAW OF THERMODYNAMICS\n",
            "THE SECOND LAW OF THERMODYNAMICS\n",
            "ENTROPY\n",
            "REVERSIBLE WORK, IRREVERSIBILITY AND AVAILABILITY\n",
            "GAS POWER CYCLES\n",
            "VAPOUR POWER CYCLES\n",
            "REFRIGERATION CYCLES\n",
            "COMBUSTION\n",
            "VELOCITY IN MECHANISMS\n",
            "ACCELERATION IN MECHANISMS\n",
            "FRICTION\n",
            "BELTS, ROPES & CHAIN DRIVES\n",
            "GEARS & GEARINGS\n",
            "GEAR TRAINS\n",
            "Stress and strain\n",
            "Theory and buckling of columns\n",
            "Deflection of beams and shafts\n",
            "Transverse shear\n",
            "Stress transformation\n",
            "Strain transformation\n",
            "Torsion\n",
            "Energy methods\n",
            "Continuous beams\n",
            "Bending\n",
            "Combined loading\n",
            "Laplace Solution Method\n",
            "Introduction to modelling forms\n",
            "Mechanical systems\n",
            "Electrical systems\n",
            "Electromechanical systems\n",
            "Performance specifications\n",
            "Fluid systems\n",
            "Thermal systems\n",
            "System identification\n",
            "Frequency response\n",
            "Introduction to control systems\n",
            "Searching for design concepts;\n",
            "Concept of manufacturing;\n",
            "Need for integration-commercial, economic and technological perspective;\n",
            "Product and process design- for integration;\n",
            ".\n",
            "Problem solving techniques.Development and use of applicable analytical techniques used in proving a design solution.\n",
            "Production of 3-D models and assemblies in support of a design solution.Research and investigation into design possibilities, component or system availability and incorporation into a design, justification for a design configuration, innovation or adaptation.Writing a project report containing an explanation and justification of the design.\n",
            "INTRODUCTION TO COMPUTATIONAL FLUID DYNAMICS:\n",
            "Failure Prevention- Static Failure\n",
            "Failure Prevention- Fatigue failure\n",
            "Introduction to Analysis tools- Finite Element Analysis (FEA)\n",
            "Reliability and Quality control in design\n",
            "Tolerances and fits\n",
            "Gears\n",
            "Shafts\n",
            "Hydrostatic bearings\n",
            "Clutches, coupling and Brakes\n",
            "Springs\n",
            "Bolted, riveted and welded joints\n",
            "Belts and pulleys\n",
            "Power transmission systems\n",
            "Dynamic load systems\n",
            "Professional communication techniques\n",
            "The Role of Statistics in Engineering\n",
            "Descriptive Statistics\n",
            "Probability\n",
            "Discrete Random Variables and Probability Distributions\n",
            "Continuous Random Variables and Probability Distributions\n",
            "Joint Probability Distribution\n",
            "Sampling Distributions and Point Estimation of Parameters\n",
            "Statistical Interval for a Single sample\n",
            "Tests of Hypotheses for a Single Sample\n",
            "Design and Analysis of Single-Factor Experiments: The Analysis of Variance\n",
            "Problem solving techniques\n",
            "Production of 3-D models and assemblies in support of a design solution.\n",
            "Writing a project report containing an explanation and justification of the design.\n",
            "Entrepreneurship\n",
            "Developing Mission, Vision, and Values, Strategizing\n",
            "Motion of Systems of Particles\n",
            "2D Motion of Rigid Bodies\n",
            "Introduction to Lagrangian Dynamics\n",
            "Mechanical Vibrations\n",
            "Renewable energy\n",
            "Co-generation\n",
            "Energy Efficiency\n",
            "Energy and Environment\n",
            "Air Refrigeration Cycles\n",
            "Air Refrigeration systems\n",
            "Simple Vapour Compression Systems\n",
            "Compound Vapour Compression Systems\n",
            "Multi-evaporator and Compressor Systems\n",
            "Vapour Absorption Refrigeration Systems\n",
            "Refrigerants\n",
            "Refrigerant Compressors\n",
            "Condensers\n",
            "Evaporators\n",
            "Expansion Devices\n",
            "Food Preservation\n",
            "Low Temperature Refrigeration (Cryogenics)\n",
            "Steam Jet Refrigeration System\n",
            "Psychometry\n",
            "Comfort Conditions\n",
            "Air Conditioning Systems\n",
            "Cooling Load Estimation\n",
            "Ducts\n",
            "2.Heat conduction Equation\n",
            "3. Steady Heat Conduction\n",
            "4.Transient Heat Conduction\n",
            "5.Numerical Methods in Heat Conduction\n",
            "6.Fundamentals of Convection\n",
            "7 Heat. Exchangers\n",
            "8.0 Fundamentals of Thermal Radiation\n",
            "9.0 Mass Transfer\n",
            "Similarity laws in turbomachinery and dimensional analysis\n",
            "Cavitation\n",
            "Hydro power generation\n",
            "Pelton wheel\n",
            "Francis Turbine\n",
            "Torque convertors and hydraulic couplings\n",
            "Wind turbine\n",
            "FRICTION\n",
            "WEAR\n",
            "PHYSICAL PROPERTIES OF LUBRICANTS\n",
            "LUBRICANTS AND THEIR COMPOSITION:\n",
            "HYDRODYNAMIC LUBRICATION :\n",
            "HYDROSTATIC LUBRICATION:\n",
            "ELASTOHYDRODYNAMIC LUBRICATION\n",
            "BOUNDARY AND EXTREME PRESSURE LUBRICATION:\n",
            "BEARING SELECTION\n",
            "\n"
          ]
        }
      ]
    }
  ]
}